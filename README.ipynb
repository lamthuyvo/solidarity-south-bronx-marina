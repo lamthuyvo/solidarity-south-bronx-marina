{
 "cells": [
  {
   "cell_type": "markdown",
   "id": "1e9760ef-6b93-464d-b4ad-14d0d9834dff",
   "metadata": {},
   "source": [
    "# Analysis of ontributions to South Bronx City Council Candidates from Solidarity PAC Donors # "
   ]
  },
  {
   "cell_type": "markdown",
   "id": "1195e297-6b48-474c-8e03-e49d63f8a08f",
   "metadata": {},
   "source": [
    "This repository contains data and code analyzing Board of Elections Solidarity PAC Contributions data and New York City Campaign Finance Data for candidates Clarisa Alayeto and Raymond Santana"
   ]
  },
  {
   "cell_type": "markdown",
   "id": "18188d64-0792-4f14-8cd8-a65509740421",
   "metadata": {},
   "source": [
    "## Data ##\n",
    "\n",
    "This analysis uses three public datasets containing campaign finance data from the NYS Board of Elections and NYC Campaign Finance Board. The spreadsheet comes from two sources:\n",
    "\n",
    "- NYS Board of Elections Contributions by Recipient (Solidarity PAC Inc.):\n",
    "    -  `BOE_SolidarityPAC.csv`: Raw Data of contributions filed between March 11, 2024 and December 30, 2024\n",
    "    -  Updated according to NYS Campaign Finance Filing Calendar\n",
    "- NYC Campaign Finance Board Candidate Contributions for Clarisa Alayeto and Raymond Santana:\n",
    "    -  `Santana_20250417171857281.csv`: Raw data of Santana's contributions filed between February 24, 2025 and March 13, 2025\n",
    "    -  `Alayeto_20250417171817101.csv`: Raw data of Alayeto's contributions filed between December 3, 2024 and March 13, 2025"
   ]
  },
  {
   "cell_type": "markdown",
   "id": "184b88ce-c780-4da1-8d53-fac28af91a23",
   "metadata": {},
   "source": [
    "The `BOE_SolidarityPAC.csv` spreadsheet contains the following columns relevant to the analysis:\n",
    "-  `Contributor Name`— Name of contributor.\n",
    "-  `Amount`— Contribution amount.\n",
    "-  `Contribution Type`— Category of the donations made to candidate, committee, or political organization."
   ]
  },
  {
   "cell_type": "markdown",
   "id": "bec98cd7-a863-4112-b301-0774c17a4d6a",
   "metadata": {},
   "source": [
    "The `Santana_20250417171857281.csv` and `Alayeto_20250417171817101.csv` spreadsheets contain, among others, the following columns releavant to the analysis: \n",
    "-  `NAME`– Name of Contributor.\n",
    "-  `AMNT`– Contribution amount.\n",
    "-  `MATCHAMNT`– Public matching funds received in relation to Contributor `AMNT`\n",
    "\n",
    "For a full list of definitions, please refer to the NYC Campaign Finance Board's help file, `CY2013_CONTRIBUTION_KEY.xls`"
   ]
  },
  {
   "cell_type": "markdown",
   "id": "d036360c-1790-4549-b390-17ea07a88703",
   "metadata": {},
   "source": [
    "## Methodology ##\n",
    "\n",
    "The notebook `southbronx-solidaritypac-analysis.ipynb` cleans the spreadsheets `Santana_20250417171857281.csv`, `Alayeto_20250417171817101.csv`, and `BOE_SolidarityPAC.csv` and formats them for analysis.\n",
    "\n",
    "**Part 1: Clean Board of Elections Data**\n",
    "\n",
    "- Format the the `Amount` column as floats. \n",
    "- Remove special characters that prevent formatting the column as a float.\n",
    "- Reduce the columns to only include relevant information.\n",
    "\n",
    "**Part 2: Clean Candidate Data (Applied to both `Santana_20250417171857281.csv`, `Alayeto_20250417171817101.csv`)\n",
    "- Remove any null values from the `NAME` column.\n",
    "- Reduce the columns to only include relevant information.\n",
    "- Sort by `AMNT` to see the highest donors.\n",
    "\n",
    "**Part 3: Find Solidarity PAC Donors Who Contributed to South Bronx Candidates**\n",
    "- Remove any extraneous spaces from the `NAME` column to ensure standarization when matching values across datasets.\n",
    "- Create a new column called `Solidarity Donor` in the candidates' datasets which will be filled whether a value is found in both the `Contributor Name` column of Board of Elections Solidarity PAC Contributions data and the `NAME `column of the candidate data\n",
    "- Filter the data to find the Solidarity PAC contributors who also donated to South Bronx candidates\n",
    "- Group the Solidarity PAC contributors by their donation amount\n",
    "- Find the sum of donations for each candidates\n"
   ]
  },
  {
   "cell_type": "markdown",
   "id": "b6b943dc-2b14-4b75-9554-4ea84f2434c7",
   "metadata": {},
   "source": [
    "## Outputs ##"
   ]
  },
  {
   "cell_type": "markdown",
   "id": "eeaa24c1-97e9-4283-a1a5-90be38e4951d",
   "metadata": {},
   "source": [
    "**Part 1** is saved as `output/boe_solidarity_donors_only.csv`"
   ]
  },
  {
   "cell_type": "markdown",
   "id": "f71d9078-839f-4186-9265-8cccd12ac15f",
   "metadata": {},
   "source": [
    "**Part 3** is saved in two files. The final output for Clarisa Alayeto is `clarisa_solidarity.csv` and Raymond Santana'a is saved as `santana_solidarity.csv`"
   ]
  },
  {
   "cell_type": "markdown",
   "id": "3fa64597-347f-4e04-83cf-f584cdd580ff",
   "metadata": {},
   "source": [
    "## Running the analysis yourself ##"
   ]
  },
  {
   "cell_type": "markdown",
   "id": "d20b6686-cd0c-4c47-80d8-c5558f83dad3",
   "metadata": {},
   "source": [
    "You can run the analysis youtself. To do so you'll need the following installed on your computer:\n",
    "- Python 3\n",
    "- The Python libraries specified in `requirements.txt`"
   ]
  },
  {
   "cell_type": "markdown",
   "id": "c0fa08fc-b4eb-4728-8db5-94cdd82bf255",
   "metadata": {},
   "source": [
    "## Licensing ##"
   ]
  },
  {
   "cell_type": "markdown",
   "id": "ce23490a-9278-480f-b1e4-209034fd09b9",
   "metadata": {},
   "source": [
    "All code in this repository is available under the MIT License. The data file in the output/ directory is available under the Creative Commons Attribution 4.0 International (CC BY 4.0) license. All files in the data/ directory are released into the public domain."
   ]
  },
  {
   "cell_type": "markdown",
   "id": "f4a79b7b-f644-4e45-83e6-82c88399c7ff",
   "metadata": {},
   "source": [
    "## Feedback / Questions? ##\n"
   ]
  },
  {
   "cell_type": "markdown",
   "id": "4c457d8f-2d76-4420-aa97-bfb84da447d5",
   "metadata": {},
   "source": [
    "Contact Marina Samuel at marinasamuel114@gmail.com"
   ]
  }
 ],
 "metadata": {
  "kernelspec": {
   "display_name": "Python 3 (ipykernel)",
   "language": "python",
   "name": "python3"
  },
  "language_info": {
   "codemirror_mode": {
    "name": "ipython",
    "version": 3
   },
   "file_extension": ".py",
   "mimetype": "text/x-python",
   "name": "python",
   "nbconvert_exporter": "python",
   "pygments_lexer": "ipython3",
   "version": "3.12.5"
  }
 },
 "nbformat": 4,
 "nbformat_minor": 5
}
